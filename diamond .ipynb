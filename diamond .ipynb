{
 "cells": [
  {
   "cell_type": "code",
   "execution_count": null,
   "id": "a527904e",
   "metadata": {},
   "outputs": [],
   "source": [
    "# this program builds us a diamond with our desirer rows and symbol\n",
    "num = int(input('enter number'))\n",
    "symbol = input('enter symbol:')\n",
    "for i in range(num,0,-1):\n",
    "    for j in range(i):\n",
    "        print(' ',end=\"\")\n",
    "    for k in range(i,num+1):\n",
    "        print(symbol,end='')\n",
    "    for l in range(i,num):\n",
    "        print(symbol,end=\"\")\n",
    "    print()\n",
    "for i in range(num+1):\n",
    "    for j in range(i):\n",
    "        print(' ',end=\"\")\n",
    "    for k in range(num,i,-1):\n",
    "        print(symbol,end='')\n",
    "    for l in range(i,num+1):\n",
    "        print(symbol,end=\"\")\n",
    "    print()"
   ]
  },
  {
   "cell_type": "code",
   "execution_count": null,
   "id": "f630c640",
   "metadata": {},
   "outputs": [],
   "source": [
    "# this programs build a piramid for user\n",
    "num = int(input('enter number of rows:'))\n",
    "symbol = input('enter symbol:')\n",
    "for i in range(num,0,-1):\n",
    "    for j in range(i-1):\n",
    "        print(' ',end=\"\")\n",
    "    for k in range(i-1,num):\n",
    "        print(symbol,end='')\n",
    "# for i in range(num):\n",
    "    for l in range(i,num):\n",
    "        print(symbol,end=\"\")    \n",
    "    print()\n"
   ]
  },
  {
   "cell_type": "code",
   "execution_count": null,
   "id": "0cc1f23c",
   "metadata": {},
   "outputs": [],
   "source": [
    "# this programs builds a piramid for user using desire symbols\n",
    "symbol = input(\"enter your desire symbol\")\n",
    "num = int(input('enter number'))\n",
    "for i in range(num+1):\n",
    "    for j in range(i+1):\n",
    "        print(symbol,end=\"\")\n",
    "    print()\n",
    "for i in range(num,0,-1):\n",
    "    for j in range(i):\n",
    "        print(symbol,end=\"\")\n",
    "    print()\n"
   ]
  },
  {
   "cell_type": "code",
   "execution_count": null,
   "id": "34ee9b85",
   "metadata": {},
   "outputs": [],
   "source": [
    "# this program build us a triangle\n",
    "num = int(input('enter number'))\n",
    "for i in range(num,0,-1):\n",
    "    for j in range(i):\n",
    "        print(' ',end=\"\")\n",
    "    for k in range(i,num+1):\n",
    "        print('*',end='')\n",
    "    print()"
   ]
  },
  {
   "cell_type": "code",
   "execution_count": null,
   "id": "32ffc3a2",
   "metadata": {},
   "outputs": [],
   "source": [
    "#this program also builds us a triangle \n",
    "num = int(input('enter number'))\n",
    "for i in range(0,num):\n",
    "    for j in range(i):\n",
    "        print(' ',end=\"\")\n",
    "    for k in range(num,i,-1):\n",
    "        print('*',end='')\n",
    "    print()  "
   ]
  },
  {
   "cell_type": "code",
   "execution_count": null,
   "id": "b5d64e30",
   "metadata": {},
   "outputs": [],
   "source": [
    "# this program give us a triangle\n",
    "num = int(input('enter number'))\n",
    "for i in range(num):\n",
    "    for j in range(i+1):\n",
    "        print('*',end=\"\")\n",
    "    print()"
   ]
  },
  {
   "cell_type": "code",
   "execution_count": null,
   "id": "67e4896e",
   "metadata": {},
   "outputs": [],
   "source": [
    "# this program give us a triangle\n",
    "num = int(input('enter number'))\n",
    "for i in range(num,0,-1):\n",
    "    for j in range(i):\n",
    "        print('*',end=\"\")\n",
    "    print()"
   ]
  }
 ],
 "metadata": {
  "kernelspec": {
   "display_name": "Python 3",
   "language": "python",
   "name": "python3"
  },
  "language_info": {
   "codemirror_mode": {
    "name": "ipython",
    "version": 3
   },
   "file_extension": ".py",
   "mimetype": "text/x-python",
   "name": "python",
   "nbconvert_exporter": "python",
   "pygments_lexer": "ipython3",
   "version": "3.8.8"
  }
 },
 "nbformat": 4,
 "nbformat_minor": 5
}
